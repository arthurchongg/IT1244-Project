{
 "cells": [
  {
   "cell_type": "markdown",
   "metadata": {
    "id": "0CzVUh5tIFp1"
   },
   "source": [
    "# Data Preprocessing"
   ]
  },
  {
   "cell_type": "code",
   "execution_count": 1,
   "metadata": {
    "colab": {
     "base_uri": "https://localhost:8080/"
    },
    "id": "4l1tmNho1m0J",
    "outputId": "667f088a-ad55-4cd8-a162-a4d94b04bb7a"
   },
   "outputs": [],
   "source": [
    "# from google.colab import drive\n",
    "# drive.mount('/content/drive')"
   ]
  },
  {
   "cell_type": "markdown",
   "metadata": {
    "id": "e-8fh1x9IIhq"
   },
   "source": [
    "### Importing necessary libraries"
   ]
  },
  {
   "cell_type": "code",
   "execution_count": 2,
   "metadata": {
    "colab": {
     "base_uri": "https://localhost:8080/"
    },
    "id": "CTdMwYUemcgM",
    "outputId": "6c3ffd86-b784-4641-f71d-8e925e62dd87"
   },
   "outputs": [],
   "source": [
    "# #Only need to run once\n",
    "# import nltk\n",
    "# nltk.download('stopwords')\n",
    "# nltk.download('wordnet')\n",
    "# nltk.download('punkt')\n"
   ]
  },
  {
   "cell_type": "code",
   "execution_count": 3,
   "metadata": {
    "id": "Q-kL3_04IFiC"
   },
   "outputs": [],
   "source": [
    "import numpy as np\n",
    "import pandas as pd\n",
    "import re\n",
    "import matplotlib.pyplot as plt\n",
    "from nltk.corpus import stopwords\n",
    "from nltk.tokenize import word_tokenize\n",
    "from nltk.stem import PorterStemmer\n",
    "from wordcloud import WordCloud, STOPWORDS\n",
    "from collections import Counter\n",
    "import string\n"
   ]
  },
  {
   "cell_type": "markdown",
   "metadata": {
    "id": "lASn0S4cISJE"
   },
   "source": [
    "### Reading in the dataset"
   ]
  },
  {
   "cell_type": "code",
   "execution_count": 4,
   "metadata": {
    "id": "30JnDxuOH96V"
   },
   "outputs": [],
   "source": [
    "twitter = pd.read_csv('dataset.csv', header = None)"
   ]
  },
  {
   "cell_type": "markdown",
   "metadata": {
    "id": "zEo_NLyHIG22"
   },
   "source": []
  },
  {
   "cell_type": "code",
   "execution_count": 5,
   "metadata": {
    "colab": {
     "base_uri": "https://localhost:8080/",
     "height": 367
    },
    "id": "gSJ38zkrHJrN",
    "outputId": "c8953ce5-edc9-4477-da52-5e505744804f"
   },
   "outputs": [
    {
     "name": "stdout",
     "output_type": "stream",
     "text": [
      "<class 'pandas.core.frame.DataFrame'>\n",
      "RangeIndex: 100000 entries, 0 to 99999\n",
      "Data columns (total 2 columns):\n",
      " #   Column  Non-Null Count   Dtype \n",
      "---  ------  --------------   ----- \n",
      " 0   0       100000 non-null  int64 \n",
      " 1   1       100000 non-null  object\n",
      "dtypes: int64(1), object(1)\n",
      "memory usage: 1.5+ MB\n"
     ]
    },
    {
     "data": {
      "text/html": [
       "<div>\n",
       "<style scoped>\n",
       "    .dataframe tbody tr th:only-of-type {\n",
       "        vertical-align: middle;\n",
       "    }\n",
       "\n",
       "    .dataframe tbody tr th {\n",
       "        vertical-align: top;\n",
       "    }\n",
       "\n",
       "    .dataframe thead th {\n",
       "        text-align: right;\n",
       "    }\n",
       "</style>\n",
       "<table border=\"1\" class=\"dataframe\">\n",
       "  <thead>\n",
       "    <tr style=\"text-align: right;\">\n",
       "      <th></th>\n",
       "      <th>0</th>\n",
       "      <th>1</th>\n",
       "    </tr>\n",
       "  </thead>\n",
       "  <tbody>\n",
       "    <tr>\n",
       "      <th>0</th>\n",
       "      <td>0</td>\n",
       "      <td>@switchfoot http://twitpic.com/2y1zl - Awww, t...</td>\n",
       "    </tr>\n",
       "    <tr>\n",
       "      <th>1</th>\n",
       "      <td>0</td>\n",
       "      <td>is upset that he can't update his Facebook by ...</td>\n",
       "    </tr>\n",
       "    <tr>\n",
       "      <th>2</th>\n",
       "      <td>0</td>\n",
       "      <td>@Kenichan I dived many times for the ball. Man...</td>\n",
       "    </tr>\n",
       "    <tr>\n",
       "      <th>3</th>\n",
       "      <td>0</td>\n",
       "      <td>my whole body feels itchy and like its on fire</td>\n",
       "    </tr>\n",
       "    <tr>\n",
       "      <th>4</th>\n",
       "      <td>0</td>\n",
       "      <td>@nationwideclass no, it's not behaving at all....</td>\n",
       "    </tr>\n",
       "  </tbody>\n",
       "</table>\n",
       "</div>"
      ],
      "text/plain": [
       "   0                                                  1\n",
       "0  0  @switchfoot http://twitpic.com/2y1zl - Awww, t...\n",
       "1  0  is upset that he can't update his Facebook by ...\n",
       "2  0  @Kenichan I dived many times for the ball. Man...\n",
       "3  0    my whole body feels itchy and like its on fire \n",
       "4  0  @nationwideclass no, it's not behaving at all...."
      ]
     },
     "execution_count": 5,
     "metadata": {},
     "output_type": "execute_result"
    }
   ],
   "source": [
    "twitter.info()\n",
    "twitter.head()"
   ]
  },
  {
   "cell_type": "markdown",
   "metadata": {
    "id": "WVg1s-9SViSm"
   },
   "source": [
    "A few observations:\n",
    "1. There are no missing rows\n",
    "2. We should remove user tags (@...), website links (http,https) on top of our normal preprocessing process as these provide no value to the sentiment of the tweet and would act as noise to our model, affecting its performance"
   ]
  },
  {
   "cell_type": "code",
   "execution_count": 6,
   "metadata": {
    "colab": {
     "base_uri": "https://localhost:8080/",
     "height": 206
    },
    "id": "8qirk2sNHJ6q",
    "outputId": "fae049e6-3cb7-4c9a-b6d6-77e60f3e4bdf"
   },
   "outputs": [
    {
     "data": {
      "text/html": [
       "<div>\n",
       "<style scoped>\n",
       "    .dataframe tbody tr th:only-of-type {\n",
       "        vertical-align: middle;\n",
       "    }\n",
       "\n",
       "    .dataframe tbody tr th {\n",
       "        vertical-align: top;\n",
       "    }\n",
       "\n",
       "    .dataframe thead th {\n",
       "        text-align: right;\n",
       "    }\n",
       "</style>\n",
       "<table border=\"1\" class=\"dataframe\">\n",
       "  <thead>\n",
       "    <tr style=\"text-align: right;\">\n",
       "      <th></th>\n",
       "      <th>sentiment</th>\n",
       "      <th>tweets</th>\n",
       "    </tr>\n",
       "  </thead>\n",
       "  <tbody>\n",
       "    <tr>\n",
       "      <th>95477</th>\n",
       "      <td>1</td>\n",
       "      <td>@imoan buy me lunch and I'll give you a phone</td>\n",
       "    </tr>\n",
       "    <tr>\n",
       "      <th>90759</th>\n",
       "      <td>1</td>\n",
       "      <td>You are ALL just so amazing! There's something...</td>\n",
       "    </tr>\n",
       "    <tr>\n",
       "      <th>17437</th>\n",
       "      <td>0</td>\n",
       "      <td>he said he would call me sometime tomoro to le...</td>\n",
       "    </tr>\n",
       "    <tr>\n",
       "      <th>99265</th>\n",
       "      <td>1</td>\n",
       "      <td>@Muzzzza I forgot I had a colour choice! Damn!...</td>\n",
       "    </tr>\n",
       "    <tr>\n",
       "      <th>91381</th>\n",
       "      <td>1</td>\n",
       "      <td>@MissyHannon Don't worry...i can watch the Joh...</td>\n",
       "    </tr>\n",
       "  </tbody>\n",
       "</table>\n",
       "</div>"
      ],
      "text/plain": [
       "       sentiment                                             tweets\n",
       "95477          1     @imoan buy me lunch and I'll give you a phone \n",
       "90759          1  You are ALL just so amazing! There's something...\n",
       "17437          0  he said he would call me sometime tomoro to le...\n",
       "99265          1  @Muzzzza I forgot I had a colour choice! Damn!...\n",
       "91381          1  @MissyHannon Don't worry...i can watch the Joh..."
      ]
     },
     "execution_count": 6,
     "metadata": {},
     "output_type": "execute_result"
    }
   ],
   "source": [
    " # Renaming our columns\n",
    "twitter = twitter.rename(columns = {0:'sentiment',1:'tweets'})\n",
    "twitter.sample(5)"
   ]
  },
  {
   "cell_type": "markdown",
   "metadata": {
    "id": "sBSTqYwqR7Vb"
   },
   "source": [
    "# Data Preprocessing"
   ]
  },
  {
   "cell_type": "markdown",
   "metadata": {
    "id": "Qito85CkVoUC"
   },
   "source": [
    "## Cleaning Text"
   ]
  },
  {
   "cell_type": "code",
   "execution_count": 7,
   "metadata": {
    "id": "CERxFIvLHKWh"
   },
   "outputs": [],
   "source": [
    "# Stopwords\n",
    "sw = set(stopwords.words('english'))\n",
    "# Adding words that are common in both negative and positive tweets into stopwords to remove them, as they do not provide much value and might affect the model's performance\n",
    "sw.update(['im','today','time','work','go','twitter','got','day','get','tomorrow','tweet'])\n",
    "# Stopwords that we want to keep in our tweets as this looks important in determining the sentiment direction of a tweet\n",
    "elements_to_remove = [\"no\",\"not\",\"nor\",\"only\",\"don't\",\"aren't\", \"didn't\",\"couldn't\",\"doesn't\",\"hadn't\",\"hasn't\",\"isn't\",\"mightn't\",\n",
    "               \"mustn't\",\"needn't\",\"shan't\",\"shouldn't\",\"wasn't\",\"weren't\",\"won't\",\"wouldn't\"]\n",
    "for word in elements_to_remove:\n",
    "  sw.remove(word)"
   ]
  },
  {
   "cell_type": "code",
   "execution_count": 8,
   "metadata": {
    "id": "TrR_UoxgSflT"
   },
   "outputs": [],
   "source": [
    "#Creating a stemmer object, which reduces a word into its root form\n",
    "pstem = PorterStemmer()\n",
    "\n",
    "\n",
    "# Defining a function to preprocess tweets\n",
    "def clean_tweet(row):\n",
    "    #lowercase all letters\n",
    "    text = row.lower()\n",
    "    # Removing links (https|http)\n",
    "    text = re.sub(r'https*\\S+','',text)\n",
    "    # Removing user mentions (@)\n",
    "    text = re.sub(r'(@[A-za-z0-9_]+)','',text)\n",
    "    # Only keeping alphanumeric characters and whitespaces\n",
    "    text = re.sub(r'[^\\w\\s]','',text)\n",
    "    # Replace 3 or more consecutive letters by 2 letters (soooo goood  --> soo good)\n",
    "    text = re.sub(r\"(.)\\1\\1+\", r\"\\1\\1\", text)\n",
    "    # Removing punctuation\n",
    "    text = \"\".join([char for char in text if char not in string.punctuation])\n",
    "    # Removing stopwords\n",
    "    text = \" \".join(word for word in text.split() if word not in sw)\n",
    "    # Converting words to their root form using the earlier defined stemmer\n",
    "    text = \" \".join(pstem.stem(word) for word in text.split())\n",
    "    return text"
   ]
  },
  {
   "cell_type": "code",
   "execution_count": 9,
   "metadata": {
    "colab": {
     "base_uri": "https://localhost:8080/",
     "height": 206
    },
    "id": "cHwCPWViRzJO",
    "outputId": "2bb2251f-81a6-4ba6-8182-685b548908e0"
   },
   "outputs": [
    {
     "data": {
      "text/html": [
       "<div>\n",
       "<style scoped>\n",
       "    .dataframe tbody tr th:only-of-type {\n",
       "        vertical-align: middle;\n",
       "    }\n",
       "\n",
       "    .dataframe tbody tr th {\n",
       "        vertical-align: top;\n",
       "    }\n",
       "\n",
       "    .dataframe thead th {\n",
       "        text-align: right;\n",
       "    }\n",
       "</style>\n",
       "<table border=\"1\" class=\"dataframe\">\n",
       "  <thead>\n",
       "    <tr style=\"text-align: right;\">\n",
       "      <th></th>\n",
       "      <th>sentiment</th>\n",
       "      <th>tweets</th>\n",
       "      <th>preprocessed_tweets</th>\n",
       "    </tr>\n",
       "  </thead>\n",
       "  <tbody>\n",
       "    <tr>\n",
       "      <th>0</th>\n",
       "      <td>0</td>\n",
       "      <td>@switchfoot http://twitpic.com/2y1zl - Awww, t...</td>\n",
       "      <td>aww that bummer shoulda david carr third</td>\n",
       "    </tr>\n",
       "    <tr>\n",
       "      <th>1</th>\n",
       "      <td>0</td>\n",
       "      <td>is upset that he can't update his Facebook by ...</td>\n",
       "      <td>upset cant updat facebook text might cri resul...</td>\n",
       "    </tr>\n",
       "    <tr>\n",
       "      <th>2</th>\n",
       "      <td>0</td>\n",
       "      <td>@Kenichan I dived many times for the ball. Man...</td>\n",
       "      <td>dive mani time ball manag save 50 rest bound</td>\n",
       "    </tr>\n",
       "    <tr>\n",
       "      <th>3</th>\n",
       "      <td>0</td>\n",
       "      <td>my whole body feels itchy and like its on fire</td>\n",
       "      <td>whole bodi feel itchi like fire</td>\n",
       "    </tr>\n",
       "    <tr>\n",
       "      <th>4</th>\n",
       "      <td>0</td>\n",
       "      <td>@nationwideclass no, it's not behaving at all....</td>\n",
       "      <td>no not behav mad cant see</td>\n",
       "    </tr>\n",
       "  </tbody>\n",
       "</table>\n",
       "</div>"
      ],
      "text/plain": [
       "   sentiment                                             tweets  \\\n",
       "0          0  @switchfoot http://twitpic.com/2y1zl - Awww, t...   \n",
       "1          0  is upset that he can't update his Facebook by ...   \n",
       "2          0  @Kenichan I dived many times for the ball. Man...   \n",
       "3          0    my whole body feels itchy and like its on fire    \n",
       "4          0  @nationwideclass no, it's not behaving at all....   \n",
       "\n",
       "                                 preprocessed_tweets  \n",
       "0           aww that bummer shoulda david carr third  \n",
       "1  upset cant updat facebook text might cri resul...  \n",
       "2       dive mani time ball manag save 50 rest bound  \n",
       "3                    whole bodi feel itchi like fire  \n",
       "4                          no not behav mad cant see  "
      ]
     },
     "execution_count": 9,
     "metadata": {},
     "output_type": "execute_result"
    }
   ],
   "source": [
    "#Creating a new column to store the cleaned tweets\n",
    "twitter['preprocessed_tweets'] = twitter['tweets'].apply(clean_tweet)\n",
    "twitter.head()"
   ]
  },
  {
   "cell_type": "markdown",
   "metadata": {
    "id": "XEGlgmP9XV-0"
   },
   "source": [
    "## Creating a WordCloud for Positive and Negative tweets"
   ]
  },
  {
   "cell_type": "markdown",
   "metadata": {
    "id": "TNk6zIQdXapu"
   },
   "source": [
    "### Positive Tweets"
   ]
  },
  {
   "cell_type": "code",
   "execution_count": 10,
   "metadata": {
    "colab": {
     "base_uri": "https://localhost:8080/",
     "height": 730
    },
    "id": "dS-NlQc6SqB8",
    "outputId": "8419e586-eea2-4929-be47-d3c1082c959c"
   },
   "outputs": [],
   "source": [
    "# positive_tweets = \" \".join(twitter[twitter['sentiment'] == 1]['preprocessed_tweets'])\n",
    "# plt.figure(figsize=(10,9))\n",
    "# wordcloud = WordCloud(height =600, width = 600, max_font_size = 100, max_words = 100, stopwords = sw).generate(positive_tweets)\n",
    "# plt.imshow(wordcloud,interpolation = 'bilinear')\n",
    "# plt.axis('off')\n",
    "# plt.show()"
   ]
  },
  {
   "cell_type": "markdown",
   "metadata": {
    "id": "IhWK4J0OXedu"
   },
   "source": [
    "### Negative Tweets"
   ]
  },
  {
   "cell_type": "code",
   "execution_count": 11,
   "metadata": {
    "colab": {
     "base_uri": "https://localhost:8080/",
     "height": 730
    },
    "id": "beWE9CSQRzmu",
    "outputId": "96f163c5-cc49-4844-8640-68a71d817fcc"
   },
   "outputs": [],
   "source": [
    "# negative_tweets = \" \".join(twitter[twitter['sentiment'] == 0]['preprocessed_tweets'])\n",
    "# plt.figure(figsize=(10,9))\n",
    "# wordcloud = WordCloud(height = 600, width = 600, max_font_size = 100, max_words = 100, stopwords = sw).generate(negative_tweets)\n",
    "# plt.imshow(wordcloud,interpolation = 'bilinear')\n",
    "# plt.axis('off')\n",
    "# plt.show()"
   ]
  },
  {
   "cell_type": "markdown",
   "metadata": {
    "id": "5W_GMCv4YpUz"
   },
   "source": [
    "From the wordcloud, we can see that common words include\n",
    "\n",
    "Positive tweets:\n",
    "1. like\n",
    "2. good\n",
    "3. love\n",
    "4. thank\n",
    "5. lol\n",
    "\n",
    "Negative tweets:\n",
    "1. sorri\n",
    "2. love\n",
    "3. hate\n",
    "4. sad\n",
    "5. bad\n",
    "\n",
    "\n",
    "However, it is weird that 'love' would be under the negative tweets, and we might want to take a closer look at those negative tweets that contain them."
   ]
  },
  {
   "cell_type": "code",
   "execution_count": 12,
   "metadata": {
    "colab": {
     "base_uri": "https://localhost:8080/"
    },
    "id": "AKmsUVFhYowJ",
    "outputId": "84e70f95-26e8-4215-a7cc-5bd36f3ea9df"
   },
   "outputs": [
    {
     "data": {
      "text/plain": [
       "['@LettyA ahh ive always wanted to see rent  love the soundtrack!!',\n",
       " 'Meh... Almost Lover is the exception... this track gets me depressed every time. ',\n",
       " '@julieebaby awe i love you too!!!! 1 am here  i miss you',\n",
       " \"@mercedesashley Damn! The grind is inspirational and saddening at the same time.  Don't want you to stop cuz I like what u do! Much love\",\n",
       " \"I'm missing you babe..  but as long as your alive I'm happy.. Yawwwnn.. I'm tired my love imma try to sleep hopefully you had a headstart\",\n",
       " \"@robluketic  love the french. I tell people here in the south i'm qtr. french and they snarl at me.  french are beautiful people\",\n",
       " '@DonnieWahlberg ooh I�m excited and not even going 2 be there  long love YOUTUBE!',\n",
       " \"@riancurtis  i'm here, friend, and i love you.\",\n",
       " '@austinhill I wish I was!  Sold out   If you have some time let me know, I would love to hear more about what you are up to!',\n",
       " 'http://twitpic.com/2y2yi - I love you, Buck. ']"
      ]
     },
     "execution_count": 12,
     "metadata": {},
     "output_type": "execute_result"
    }
   ],
   "source": [
    "list((twitter[(twitter['sentiment'] == 0) & (twitter['preprocessed_tweets'].str.contains('love')) ]['tweets']))[:10]\n"
   ]
  },
  {
   "cell_type": "markdown",
   "metadata": {
    "id": "k1d7io1OZ7lC"
   },
   "source": [
    "We can see some issues with the dataset\n",
    "\n",
    "1. '@LettyA ahh ive always wanted to see rent  love the soundtrack!!'\n",
    "\n",
    "2. '@austinhill I wish I was!  Sold out   If you have some time let me know, I would love to hear more about what you are up to!',\n",
    "\n",
    "These tweets have been classified as  negative tweets when they are positive, this would affect the performance of our model and hence we would have to keep this in mind when training our model"
   ]
  },
  {
   "cell_type": "markdown",
   "metadata": {
    "id": "hdNU231van4s"
   },
   "source": [
    "## Preprocessing data"
   ]
  },
  {
   "cell_type": "code",
   "execution_count": 13,
   "metadata": {
    "id": "HbbN0xfzfR79"
   },
   "outputs": [],
   "source": [
    "X = twitter['tweets'].values\n",
    "y = twitter['sentiment'].values"
   ]
  },
  {
   "cell_type": "markdown",
   "metadata": {
    "id": "NwS8GjhkI_5f"
   },
   "source": [
    "# Splitting Into train and test sets"
   ]
  },
  {
   "cell_type": "code",
   "execution_count": 14,
   "metadata": {
    "id": "l4ZnIdQHHKL7"
   },
   "outputs": [],
   "source": [
    "from sklearn.model_selection import train_test_split"
   ]
  },
  {
   "cell_type": "code",
   "execution_count": 15,
   "metadata": {
    "id": "tt-7hK4WHKQ_"
   },
   "outputs": [],
   "source": [
    "# Splitting into tran and test set, random_state used for reproducibility of results\n",
    "X_train,X_test, y_train, y_test = train_test_split(X, y, test_size = 0.3, random_state = 42)"
   ]
  },
  {
   "cell_type": "code",
   "execution_count": 16,
   "metadata": {
    "id": "CZWDxao-mNTg"
   },
   "outputs": [],
   "source": [
    "X_train_clean = np.array(list(map(clean_tweet,X_train)))\n",
    "X_test_clean =  np.array(list(map(clean_tweet,X_test)))"
   ]
  },
  {
   "cell_type": "markdown",
   "metadata": {
    "id": "gEQz_LQtexfD"
   },
   "source": [
    "## Word Embedding"
   ]
  },
  {
   "cell_type": "code",
   "execution_count": 17,
   "metadata": {
    "id": "B9KtqRFpJYy2"
   },
   "outputs": [],
   "source": [
    "from sklearn.feature_extraction.text import TfidfVectorizer\n",
    "from sklearn.feature_extraction.text import CountVectorizer\n",
    "vectorizer = TfidfVectorizer(ngram_range = (1,2))\n",
    "X_train_tfidf = vectorizer.fit_transform(X_train_clean)\n",
    "X_test_tfidf = vectorizer.transform(X_test_clean)\n",
    "# vect = CountVectorizer()\n",
    "# X_train_tfidf = vect.fit_transform(X_train)\n",
    "# X_test_tfidf = vect.transform(X_test)"
   ]
  },
  {
   "cell_type": "markdown",
   "metadata": {
    "id": "nwIi19lkBqjM"
   },
   "source": [
    "# Model Training"
   ]
  },
  {
   "cell_type": "code",
   "execution_count": 18,
   "metadata": {
    "colab": {
     "base_uri": "https://localhost:8080/"
    },
    "id": "9tOu0XkfC17Y",
    "outputId": "f4fa4f20-12b1-4d7b-9e5f-f83c9ea51c09"
   },
   "outputs": [
    {
     "data": {
      "text/plain": [
       "(70000, 324520)"
      ]
     },
     "execution_count": 18,
     "metadata": {},
     "output_type": "execute_result"
    }
   ],
   "source": [
    "X_train_tfidf.shape"
   ]
  },
  {
   "cell_type": "markdown",
   "metadata": {
    "id": "e6hSzvofO3tW"
   },
   "source": [
    "## Logistic Regression"
   ]
  },
  {
   "cell_type": "code",
   "execution_count": 19,
   "metadata": {
    "id": "ZzBQzdi0Ia4G"
   },
   "outputs": [],
   "source": [
    "from sklearn.linear_model import LogisticRegression\n",
    "log_reg = LogisticRegression(C = 2, max_iter = 1000, n_jobs = -1)\n",
    "log_reg.fit(X_train_tfidf,y_train)\n",
    "log_reg_predictions = log_reg.predict(X_test_tfidf)"
   ]
  },
  {
   "cell_type": "code",
   "execution_count": 20,
   "metadata": {
    "colab": {
     "base_uri": "https://localhost:8080/"
    },
    "id": "YNykJOttJwQC",
    "outputId": "edd99ada-dae2-413d-8c6c-0e320365aa03"
   },
   "outputs": [
    {
     "name": "stdout",
     "output_type": "stream",
     "text": [
      "Confusion Matrix:\n",
      " [[11844  3211]\n",
      " [ 3354 11591]]\n",
      "\n",
      "Recall score:\n",
      "0.7755771160923386\n",
      "\n",
      "Precision score:\n",
      " 0.7830698554249426\n",
      "\n",
      "F1 score:\n",
      " 0.7793054761824721\n"
     ]
    }
   ],
   "source": [
    "from sklearn.metrics import confusion_matrix, recall_score, f1_score, precision_score\n",
    "print(f'Confusion Matrix:\\n {confusion_matrix(y_test,log_reg_predictions)}')\n",
    "print(f'\\nRecall score:\\n{recall_score(y_test,log_reg_predictions)}')\n",
    "print(f'\\nPrecision score:\\n {precision_score(y_test,log_reg_predictions)}')\n",
    "print(f'\\nF1 score:\\n {f1_score(y_test,log_reg_predictions)}')"
   ]
  },
  {
   "cell_type": "markdown",
   "metadata": {
    "id": "_bU-i-n3wB3c"
   },
   "source": [
    "## Looking at the misclassifed tweets"
   ]
  },
  {
   "cell_type": "code",
   "execution_count": 21,
   "metadata": {
    "colab": {
     "base_uri": "https://localhost:8080/"
    },
    "id": "27uj6iaJooip",
    "outputId": "b746acfa-073c-419c-a41b-2fff023d5986"
   },
   "outputs": [
    {
     "ename": "NameError",
     "evalue": "name 'predictions' is not defined",
     "output_type": "error",
     "traceback": [
      "\u001b[0;31m---------------------------------------------------------------------------\u001b[0m",
      "\u001b[0;31mNameError\u001b[0m                                 Traceback (most recent call last)",
      "Cell \u001b[0;32mIn[21], line 2\u001b[0m\n\u001b[1;32m      1\u001b[0m \u001b[38;5;66;03m# Create a DataFrame to store misclassified examples\u001b[39;00m\n\u001b[0;32m----> 2\u001b[0m misclassified_df \u001b[38;5;241m=\u001b[39m pd\u001b[38;5;241m.\u001b[39mDataFrame({\u001b[38;5;124m'\u001b[39m\u001b[38;5;124mactual\u001b[39m\u001b[38;5;124m'\u001b[39m: y_test, \u001b[38;5;124m'\u001b[39m\u001b[38;5;124mpredicted\u001b[39m\u001b[38;5;124m'\u001b[39m: \u001b[43mpredictions\u001b[49m, \u001b[38;5;124m'\u001b[39m\u001b[38;5;124mtweet\u001b[39m\u001b[38;5;124m'\u001b[39m: X_test})\n\u001b[1;32m      4\u001b[0m \u001b[38;5;66;03m# Filter false positives (negative tweets misclassified as positive)\u001b[39;00m\n\u001b[1;32m      5\u001b[0m false_positives \u001b[38;5;241m=\u001b[39m misclassified_df[(misclassified_df[\u001b[38;5;124m'\u001b[39m\u001b[38;5;124mactual\u001b[39m\u001b[38;5;124m'\u001b[39m] \u001b[38;5;241m==\u001b[39m \u001b[38;5;241m0\u001b[39m) \u001b[38;5;241m&\u001b[39m (misclassified_df[\u001b[38;5;124m'\u001b[39m\u001b[38;5;124mpredicted\u001b[39m\u001b[38;5;124m'\u001b[39m] \u001b[38;5;241m==\u001b[39m \u001b[38;5;241m1\u001b[39m)]\n",
      "\u001b[0;31mNameError\u001b[0m: name 'predictions' is not defined"
     ]
    }
   ],
   "source": [
    "# Create a DataFrame to store misclassified examples\n",
    "misclassified_df = pd.DataFrame({'actual': y_test, 'predicted': log_reg_predictions, 'tweet': X_test})\n",
    "\n",
    "# Filter false positives (negative tweets misclassified as positive)\n",
    "false_positives = misclassified_df[(misclassified_df['actual'] == 0) & (misclassified_df['predicted'] == 1)]\n",
    "\n",
    "# Filter false negatives (positive tweets misclassified as negative)\n",
    "false_negatives = misclassified_df[(misclassified_df['actual'] == 1) & (misclassified_df['predicted'] == 0)]\n",
    "\n",
    "# Function to print a sample of misclassified examples\n",
    "def print_misclassified_samples(df, num_samples=5):\n",
    "    for i, row in df.sample(num_samples, random_state = 20).iterrows():\n",
    "        print(f\"Actual: {row['actual']}, Predicted: {row['predicted']}\")\n",
    "        print(f\"Tweet: {row['tweet']}\\n\")\n",
    "\n",
    "# Print samples of false positives\n",
    "print(\"False Positives:\")\n",
    "print_misclassified_samples(false_positives)\n",
    "\n",
    "# Print samples of false negatives\n",
    "print(\"False Negatives:\")\n",
    "print_misclassified_samples(false_negatives)"
   ]
  },
  {
   "cell_type": "markdown",
   "metadata": {
    "id": "G6abBi59nZ7x"
   },
   "source": [
    "As we can see from the misclassified tweets, there are some tweets that our model actually predicted correctly but due to the wrongly labelled dataset, it was recorded as a misclassification.\n",
    "\n",
    "Examples of False Positives that should be True Positives would be:\n",
    "1.   Preproduction set up &amp; test run 2day starting @ 3. Absolutely gorgeous day out today. Have 2 go up 2 Cogan Station 1st  yuck Love always\n",
    "2.  my kids are going to PR tonight for 2 weeks!!! \n",
    "\n",
    "\n",
    "Examples of False Negatives that should be True Negatives would be:\n",
    "1. @maerdred baseball, right? Psh. Baseball isn't even televised here anymore, they got rid of it to make room for more hockey.  (srsly)\n",
    "2. Im back, the energy of this house is a shit. Every Day this energy down. [/Fake  , but is a shit!\n",
    "\n",
    "\n",
    "\n"
   ]
  },
  {
   "cell_type": "markdown",
   "metadata": {
    "id": "o1YJTxEQIMNb"
   },
   "source": [
    "## Neural Network (LSTM)"
   ]
  },
  {
   "cell_type": "code",
   "execution_count": 22,
   "metadata": {
    "id": "p_fcJYn7C7pM"
   },
   "outputs": [],
   "source": [
    "import tensorflow as tf\n",
    "from tensorflow.keras.models import Sequential\n",
    "from tensorflow.keras.layers import Embedding, LSTM, Dense\n",
    "from tensorflow.keras.preprocessing.text import Tokenizer\n",
    "from tensorflow.keras.preprocessing.sequence import pad_sequences"
   ]
  },
  {
   "cell_type": "code",
   "execution_count": 23,
   "metadata": {
    "id": "T1GP_jnCIoKS"
   },
   "outputs": [],
   "source": [
    "tokenizer = Tokenizer()\n",
    "tokenizer.fit_on_texts(X_train_clean)\n",
    "X_train_seq = tokenizer.texts_to_sequences(X_train_clean)\n",
    "X_test_seq = tokenizer.texts_to_sequences(X_test_clean)"
   ]
  },
  {
   "cell_type": "code",
   "execution_count": 24,
   "metadata": {
    "id": "BlIx6-s_IQT3"
   },
   "outputs": [],
   "source": [
    "# Tokenize and pad sequences\n",
    "max_words = 10000\n",
    "max_len = 125\n",
    "tokenizer = Tokenizer(num_words=max_words)\n",
    "tokenizer.fit_on_texts(X_train_clean)\n",
    "\n",
    "X_train_seq = tokenizer.texts_to_sequences(X_train_clean)\n",
    "X_test_seq = tokenizer.texts_to_sequences(X_test_clean)\n",
    "\n",
    "X_train_pad = pad_sequences(X_train_seq, maxlen=max_len)\n",
    "X_test_pad = pad_sequences(X_test_seq, maxlen=max_len)"
   ]
  },
  {
   "cell_type": "code",
   "execution_count": 25,
   "metadata": {
    "colab": {
     "base_uri": "https://localhost:8080/"
    },
    "id": "bUPkmFEJIOVZ",
    "outputId": "64758aaf-bc92-436c-a5aa-fbc6157fbbbc"
   },
   "outputs": [
    {
     "name": "stderr",
     "output_type": "stream",
     "text": [
      "2023-11-02 23:48:23.267621: I metal_plugin/src/device/metal_device.cc:1154] Metal device set to: Apple M2\n",
      "2023-11-02 23:48:23.267689: I metal_plugin/src/device/metal_device.cc:296] systemMemory: 8.00 GB\n",
      "2023-11-02 23:48:23.267693: I metal_plugin/src/device/metal_device.cc:313] maxCacheSize: 2.67 GB\n",
      "2023-11-02 23:48:23.267773: I tensorflow/core/common_runtime/pluggable_device/pluggable_device_factory.cc:303] Could not identify NUMA node of platform GPU ID 0, defaulting to 0. Your kernel may not have been built with NUMA support.\n",
      "2023-11-02 23:48:23.268142: I tensorflow/core/common_runtime/pluggable_device/pluggable_device_factory.cc:269] Created TensorFlow device (/job:localhost/replica:0/task:0/device:GPU:0 with 0 MB memory) -> physical PluggableDevice (device: 0, name: METAL, pci bus id: <undefined>)\n"
     ]
    },
    {
     "name": "stdout",
     "output_type": "stream",
     "text": [
      "Model: \"sequential\"\n",
      "_________________________________________________________________\n",
      " Layer (type)                Output Shape              Param #   \n",
      "=================================================================\n",
      " embedding (Embedding)       (None, 125, 128)          1280000   \n",
      "                                                                 \n",
      " lstm (LSTM)                 (None, 64)                49408     \n",
      "                                                                 \n",
      " dense (Dense)               (None, 1)                 65        \n",
      "                                                                 \n",
      "=================================================================\n",
      "Total params: 1329473 (5.07 MB)\n",
      "Trainable params: 1329473 (5.07 MB)\n",
      "Non-trainable params: 0 (0.00 Byte)\n",
      "_________________________________________________________________\n"
     ]
    }
   ],
   "source": [
    "model = Sequential()\n",
    "model.add(Embedding(input_dim=max_words, output_dim=128, input_length=max_len))\n",
    "model.add(LSTM(64))\n",
    "model.add(Dense(1, activation='sigmoid'))\n",
    "model.compile(optimizer='adam', loss='binary_crossentropy', metrics=['accuracy'])\n",
    "model.summary()"
   ]
  },
  {
   "cell_type": "code",
   "execution_count": 26,
   "metadata": {
    "colab": {
     "base_uri": "https://localhost:8080/"
    },
    "id": "3PM1IVnwIg33",
    "outputId": "3e4b4ea8-c668-4707-f79c-9864a58dac79"
   },
   "outputs": [
    {
     "name": "stdout",
     "output_type": "stream",
     "text": [
      "Epoch 1/5\n"
     ]
    },
    {
     "name": "stderr",
     "output_type": "stream",
     "text": [
      "2023-11-02 23:48:24.433759: I tensorflow/core/grappler/optimizers/custom_graph_optimizer_registry.cc:114] Plugin optimizer for device_type GPU is enabled.\n",
      "2023-11-02 23:48:24.707411: I tensorflow/core/grappler/optimizers/custom_graph_optimizer_registry.cc:114] Plugin optimizer for device_type GPU is enabled.\n",
      "2023-11-02 23:48:25.877770: I tensorflow/core/grappler/optimizers/custom_graph_optimizer_registry.cc:114] Plugin optimizer for device_type GPU is enabled.\n"
     ]
    },
    {
     "name": "stdout",
     "output_type": "stream",
     "text": [
      "1094/1094 [==============================] - 75s 66ms/step - loss: 0.5098 - accuracy: 0.7483\n",
      "Epoch 2/5\n",
      "1094/1094 [==============================] - 73s 67ms/step - loss: 0.4295 - accuracy: 0.7998\n",
      "Epoch 3/5\n",
      "1094/1094 [==============================] - 74s 67ms/step - loss: 0.3764 - accuracy: 0.8267\n",
      "Epoch 4/5\n",
      "1094/1094 [==============================] - 71s 65ms/step - loss: 0.3302 - accuracy: 0.8504\n",
      "Epoch 5/5\n",
      "1094/1094 [==============================] - 76s 69ms/step - loss: 0.2861 - accuracy: 0.8738\n"
     ]
    },
    {
     "data": {
      "text/plain": [
       "<keras.src.callbacks.History at 0x29d8fca00>"
      ]
     },
     "execution_count": 26,
     "metadata": {},
     "output_type": "execute_result"
    }
   ],
   "source": [
    "model.fit(X_train_pad, y_train, epochs=5, batch_size=64)\n"
   ]
  },
  {
   "cell_type": "code",
   "execution_count": 27,
   "metadata": {
    "colab": {
     "base_uri": "https://localhost:8080/"
    },
    "id": "XAB4vQuDIpDs",
    "outputId": "488d2fa5-33ad-40d6-f754-150e79465343"
   },
   "outputs": [
    {
     "name": "stderr",
     "output_type": "stream",
     "text": [
      "2023-11-02 23:54:33.232688: I tensorflow/core/grappler/optimizers/custom_graph_optimizer_registry.cc:114] Plugin optimizer for device_type GPU is enabled.\n",
      "2023-11-02 23:54:33.324976: I tensorflow/core/grappler/optimizers/custom_graph_optimizer_registry.cc:114] Plugin optimizer for device_type GPU is enabled.\n"
     ]
    },
    {
     "name": "stdout",
     "output_type": "stream",
     "text": [
      "938/938 [==============================] - 13s 13ms/step\n",
      "Confusion Matrix:\n",
      " [[11337  3718]\n",
      " [ 3709 11236]]\n",
      "\n",
      "Recall score:\n",
      "0.7518233522917364\n",
      "\n",
      "Precision score:\n",
      " 0.7513708706700548\n",
      "\n",
      "F1 score:\n",
      " 0.7515970433793772\n"
     ]
    }
   ],
   "source": [
    "pred_prob = model.predict(X_test_pad)\n",
    "lstm_predictions = (pred_prob > 0.5).astype(int)\n",
    "\n",
    "print(f'Confusion Matrix:\\n {confusion_matrix(y_test,lstm_predictions)}')\n",
    "print(f'\\nRecall score:\\n{recall_score(y_test,lstm_predictions)}')\n",
    "print(f'\\nPrecision score:\\n {precision_score(y_test,lstm_predictions)}')\n",
    "print(f'\\nF1 score:\\n {f1_score(y_test,lstm_predictions)}')"
   ]
  },
  {
   "cell_type": "markdown",
   "metadata": {
    "id": "u-ki7ChF_ncX"
   },
   "source": [
    "## Naive Bayes"
   ]
  },
  {
   "cell_type": "code",
   "execution_count": 29,
   "metadata": {
    "id": "Il7xwYU8_uaP"
   },
   "outputs": [],
   "source": [
    "from sklearn.naive_bayes import MultinomialNB\n",
    "from sklearn.metrics import roc_curve, roc_auc_score\n",
    "import matplotlib.pyplot as plt"
   ]
  },
  {
   "cell_type": "code",
   "execution_count": 30,
   "metadata": {
    "colab": {
     "base_uri": "https://localhost:8080/",
     "height": 75
    },
    "id": "v00wwSYWEl4t",
    "outputId": "c27424c3-cd56-47ae-d5c2-c73fc681e015"
   },
   "outputs": [
    {
     "data": {
      "text/html": [
       "<style>#sk-container-id-1 {color: black;}#sk-container-id-1 pre{padding: 0;}#sk-container-id-1 div.sk-toggleable {background-color: white;}#sk-container-id-1 label.sk-toggleable__label {cursor: pointer;display: block;width: 100%;margin-bottom: 0;padding: 0.3em;box-sizing: border-box;text-align: center;}#sk-container-id-1 label.sk-toggleable__label-arrow:before {content: \"▸\";float: left;margin-right: 0.25em;color: #696969;}#sk-container-id-1 label.sk-toggleable__label-arrow:hover:before {color: black;}#sk-container-id-1 div.sk-estimator:hover label.sk-toggleable__label-arrow:before {color: black;}#sk-container-id-1 div.sk-toggleable__content {max-height: 0;max-width: 0;overflow: hidden;text-align: left;background-color: #f0f8ff;}#sk-container-id-1 div.sk-toggleable__content pre {margin: 0.2em;color: black;border-radius: 0.25em;background-color: #f0f8ff;}#sk-container-id-1 input.sk-toggleable__control:checked~div.sk-toggleable__content {max-height: 200px;max-width: 100%;overflow: auto;}#sk-container-id-1 input.sk-toggleable__control:checked~label.sk-toggleable__label-arrow:before {content: \"▾\";}#sk-container-id-1 div.sk-estimator input.sk-toggleable__control:checked~label.sk-toggleable__label {background-color: #d4ebff;}#sk-container-id-1 div.sk-label input.sk-toggleable__control:checked~label.sk-toggleable__label {background-color: #d4ebff;}#sk-container-id-1 input.sk-hidden--visually {border: 0;clip: rect(1px 1px 1px 1px);clip: rect(1px, 1px, 1px, 1px);height: 1px;margin: -1px;overflow: hidden;padding: 0;position: absolute;width: 1px;}#sk-container-id-1 div.sk-estimator {font-family: monospace;background-color: #f0f8ff;border: 1px dotted black;border-radius: 0.25em;box-sizing: border-box;margin-bottom: 0.5em;}#sk-container-id-1 div.sk-estimator:hover {background-color: #d4ebff;}#sk-container-id-1 div.sk-parallel-item::after {content: \"\";width: 100%;border-bottom: 1px solid gray;flex-grow: 1;}#sk-container-id-1 div.sk-label:hover label.sk-toggleable__label {background-color: #d4ebff;}#sk-container-id-1 div.sk-serial::before {content: \"\";position: absolute;border-left: 1px solid gray;box-sizing: border-box;top: 0;bottom: 0;left: 50%;z-index: 0;}#sk-container-id-1 div.sk-serial {display: flex;flex-direction: column;align-items: center;background-color: white;padding-right: 0.2em;padding-left: 0.2em;position: relative;}#sk-container-id-1 div.sk-item {position: relative;z-index: 1;}#sk-container-id-1 div.sk-parallel {display: flex;align-items: stretch;justify-content: center;background-color: white;position: relative;}#sk-container-id-1 div.sk-item::before, #sk-container-id-1 div.sk-parallel-item::before {content: \"\";position: absolute;border-left: 1px solid gray;box-sizing: border-box;top: 0;bottom: 0;left: 50%;z-index: -1;}#sk-container-id-1 div.sk-parallel-item {display: flex;flex-direction: column;z-index: 1;position: relative;background-color: white;}#sk-container-id-1 div.sk-parallel-item:first-child::after {align-self: flex-end;width: 50%;}#sk-container-id-1 div.sk-parallel-item:last-child::after {align-self: flex-start;width: 50%;}#sk-container-id-1 div.sk-parallel-item:only-child::after {width: 0;}#sk-container-id-1 div.sk-dashed-wrapped {border: 1px dashed gray;margin: 0 0.4em 0.5em 0.4em;box-sizing: border-box;padding-bottom: 0.4em;background-color: white;}#sk-container-id-1 div.sk-label label {font-family: monospace;font-weight: bold;display: inline-block;line-height: 1.2em;}#sk-container-id-1 div.sk-label-container {text-align: center;}#sk-container-id-1 div.sk-container {/* jupyter's `normalize.less` sets `[hidden] { display: none; }` but bootstrap.min.css set `[hidden] { display: none !important; }` so we also need the `!important` here to be able to override the default hidden behavior on the sphinx rendered scikit-learn.org. See: https://github.com/scikit-learn/scikit-learn/issues/21755 */display: inline-block !important;position: relative;}#sk-container-id-1 div.sk-text-repr-fallback {display: none;}</style><div id=\"sk-container-id-1\" class=\"sk-top-container\"><div class=\"sk-text-repr-fallback\"><pre>MultinomialNB()</pre><b>In a Jupyter environment, please rerun this cell to show the HTML representation or trust the notebook. <br />On GitHub, the HTML representation is unable to render, please try loading this page with nbviewer.org.</b></div><div class=\"sk-container\" hidden><div class=\"sk-item\"><div class=\"sk-estimator sk-toggleable\"><input class=\"sk-toggleable__control sk-hidden--visually\" id=\"sk-estimator-id-1\" type=\"checkbox\" checked><label for=\"sk-estimator-id-1\" class=\"sk-toggleable__label sk-toggleable__label-arrow\">MultinomialNB</label><div class=\"sk-toggleable__content\"><pre>MultinomialNB()</pre></div></div></div></div></div>"
      ],
      "text/plain": [
       "MultinomialNB()"
      ]
     },
     "execution_count": 30,
     "metadata": {},
     "output_type": "execute_result"
    }
   ],
   "source": [
    "# Input data into Naive Bayes model\n",
    "nb_model = MultinomialNB()\n",
    "nb_model.fit(X_train_tfidf, y_train)"
   ]
  },
  {
   "cell_type": "code",
   "execution_count": 31,
   "metadata": {
    "colab": {
     "base_uri": "https://localhost:8080/"
    },
    "id": "dmWLmwToQMRw",
    "outputId": "1f0fe2a2-8291-4c05-af34-b49a6a93267c"
   },
   "outputs": [
    {
     "name": "stdout",
     "output_type": "stream",
     "text": [
      "Confusion Matrix:\n",
      " [[12003  3052]\n",
      " [ 3973 10972]]\n",
      "\n",
      "Recall score:\n",
      "0.734158581465373\n",
      "\n",
      "Precision score:\n",
      " 0.7823730747290359\n",
      "\n",
      "F1 score:\n",
      " 0.7574993959059684\n"
     ]
    }
   ],
   "source": [
    "# Accuracy Score\n",
    "nb_predictions = nb_model.predict(X_test_tfidf)\n",
    "print(f'Confusion Matrix:\\n {confusion_matrix(y_test,nb_predictions)}')\n",
    "print(f'\\nRecall score:\\n{recall_score(y_test,nb_predictions)}')\n",
    "print(f'\\nPrecision score:\\n {precision_score(y_test,nb_predictions)}')\n",
    "print(f'\\nF1 score:\\n {f1_score(y_test,nb_predictions)}')"
   ]
  },
  {
   "cell_type": "markdown",
   "metadata": {
    "id": "EWxeJ50fSWXD"
   },
   "source": [
    "# ROC Curve"
   ]
  },
  {
   "cell_type": "markdown",
   "metadata": {
    "id": "pBy-j3gYSaLQ"
   },
   "source": [
    "## Logistic Regression"
   ]
  },
  {
   "cell_type": "code",
   "execution_count": 32,
   "metadata": {
    "id": "jJwpXYo1PVrp"
   },
   "outputs": [],
   "source": [
    "lr_y_pred = log_reg.predict_proba(X_test_tfidf)[:,1]\n",
    "lr_fpr,lr_tpr,lr_thresholds = roc_curve(y_test,lr_y_pred)\n",
    "lr_roc_auc = roc_auc_score(y_test,lr_y_pred)"
   ]
  },
  {
   "cell_type": "markdown",
   "metadata": {
    "id": "cNp--c_eSfim"
   },
   "source": [
    "## LSTM"
   ]
  },
  {
   "cell_type": "code",
   "execution_count": 33,
   "metadata": {
    "id": "1gKdn23fSe6O"
   },
   "outputs": [],
   "source": [
    "nn_fpr, nn_tpr, nn_thresholds = roc_curve(y_test, pred_prob)\n",
    "nn_roc_auc = roc_auc_score(y_test,pred_prob)"
   ]
  },
  {
   "cell_type": "markdown",
   "metadata": {
    "id": "Ee32uAWCSnJI"
   },
   "source": [
    "## Naive Bayes"
   ]
  },
  {
   "cell_type": "code",
   "execution_count": 34,
   "metadata": {
    "id": "8-pn45WwSmmH"
   },
   "outputs": [],
   "source": [
    "nb_y_pred = nb_model.predict_proba(X_test_tfidf)[:, 1] # probability for positive class\n",
    "nb_fpr, nb_tpr, nb_thresholds = roc_curve(y_test, nb_y_pred)\n",
    "nb_roc_auc = roc_auc_score(y_test,nb_y_pred)"
   ]
  },
  {
   "cell_type": "markdown",
   "metadata": {
    "id": "ht-tXgHAUE0M"
   },
   "source": [
    "## Plotting the ROC Curve for all models"
   ]
  },
  {
   "cell_type": "code",
   "execution_count": 35,
   "metadata": {
    "colab": {
     "base_uri": "https://localhost:8080/",
     "height": 564
    },
    "id": "gfVPqjycXVaV",
    "outputId": "e249ef2a-865a-4fce-9316-8771cd910459"
   },
   "outputs": [
    {
     "data": {
      "image/png": "[encoded data removed]",
      "text/plain": [
       "<Figure size 800x600 with 1 Axes>"
      ]
     },
     "metadata": {},
     "output_type": "display_data"
    }
   ],
   "source": [
    "# ROC Curve\n",
    "plt.figure(figsize=(8, 6))\n",
    "plt.plot(lr_fpr,lr_tpr, color = 'red', lw = 2, label=f'Logistic Regression ROC curve (AUC = {lr_roc_auc:.2f})')\n",
    "plt.plot(nb_fpr, nb_tpr, color='darkorange', lw=2, label=f'Naive Bayes ROC curve (AUC = {nb_roc_auc:.2f})')\n",
    "plt.plot(nn_fpr,nn_tpr,color = 'green', lw = 2, label=f'LSTM ROC curve (AUC = {nn_roc_auc:.2f})' )\n",
    "plt.plot([0, 1], [0, 1], color='navy', lw=2, linestyle='--')\n",
    "plt.xlim([0.0, 1.0])\n",
    "plt.ylim([0.0, 1.05])\n",
    "plt.xlabel('False Positive Rate')\n",
    "plt.ylabel('True Positive Rate')\n",
    "plt.title('Receiver Operating Characteristic (ROC) Curve of different models')\n",
    "plt.legend(loc=\"lower right\")\n",
    "plt.show()"
   ]
  },
  {
   "cell_type": "markdown",
   "metadata": {
    "id": "aCJ4TLpyS8CG"
   },
   "source": [
    "#Predicting on new tweets"
   ]
  },
  {
   "cell_type": "code",
   "execution_count": 36,
   "metadata": {
    "id": "SBqJJYGbwv_0"
   },
   "outputs": [],
   "source": [
    "# Defining a function that takes in a tweet and outputs whether the tweet is predicted to be positive or negative\n",
    "def predict_tweet(tweet):\n",
    "  text = clean_tweet(tweet)\n",
    "  m = vectorizer.transform([text])\n",
    "  prediction = log_reg.predict(m)\n",
    "  return 'The sentiment of this tweet is predicted to be positive' if prediction == 1 else 'The sentiment of this tweet is predicted to be negative'\n"
   ]
  },
  {
   "cell_type": "code",
   "execution_count": 37,
   "metadata": {
    "id": "fGZICrQnxeFY"
   },
   "outputs": [],
   "source": [
    "positive_tweet = '''\n",
    "Just got my hands on the new #iPhone15 and it's a game-changer!\n",
    "The camera quality is unmatched, the sleek design is next level, and the performance is lightning-fast.\n",
    "Apple continues to raise the bar with innovation.\n",
    "Loving every moment with this beauty! 📱✨ #TechInnovation\n",
    "'''"
   ]
  },
  {
   "cell_type": "code",
   "execution_count": 38,
   "metadata": {
    "colab": {
     "base_uri": "https://localhost:8080/",
     "height": 35
    },
    "id": "xoIJR5ZKxhZy",
    "outputId": "6cac5276-f55b-4a0c-9e70-1c4ad5e76d04"
   },
   "outputs": [
    {
     "data": {
      "text/plain": [
       "'The sentiment of this tweet is predicted to be positive'"
      ]
     },
     "execution_count": 38,
     "metadata": {},
     "output_type": "execute_result"
    }
   ],
   "source": [
    "predict_tweet(positive_tweet)"
   ]
  },
  {
   "cell_type": "code",
   "execution_count": 39,
   "metadata": {
    "id": "a99H_677TTGU"
   },
   "outputs": [],
   "source": [
    "negative_tweet ='''\n",
    "Disappointed with the new #iPhone15.\n",
    "Expected a lot more for the hefty price tag.\n",
    "The battery life is not as promised, and the software seems a bit buggy.\n",
    "The upgrades feel incremental, and there's nothing groundbreaking.\n",
    "Not the upgrade I was hoping for. 😕📱 #TechLetdown\"\n",
    "'''"
   ]
  },
  {
   "cell_type": "code",
   "execution_count": 40,
   "metadata": {
    "colab": {
     "base_uri": "https://localhost:8080/",
     "height": 35
    },
    "id": "FsaYhN6XT9AH",
    "outputId": "5fec702b-8ab6-49eb-c62c-98802e047e01"
   },
   "outputs": [
    {
     "data": {
      "text/plain": [
       "'The sentiment of this tweet is predicted to be negative'"
      ]
     },
     "execution_count": 40,
     "metadata": {},
     "output_type": "execute_result"
    }
   ],
   "source": [
    "predict_tweet(negative_tweet)"
   ]
  },
  {
   "cell_type": "markdown",
   "metadata": {
    "id": "lJS47Qemqu1k"
   },
   "source": [
    "It appears that our model is doing a pretty decent job in predicting whether a tweet sentiment is positive or negative!"
   ]
  },
  {
   "cell_type": "code",
   "execution_count": null,
   "metadata": {
    "id": "9mb-EqKWqmd1"
   },
   "outputs": [],
   "source": []
  }
 ],
 "metadata": {
  "colab": {
   "provenance": []
  },
  "kernelspec": {
   "display_name": "myenv",
   "language": "python",
   "name": "myenv"
  },
  "language_info": {
   "codemirror_mode": {
    "name": "ipython",
    "version": 3
   },
   "file_extension": ".py",
   "mimetype": "text/x-python",
   "name": "python",
   "nbconvert_exporter": "python",
   "pygments_lexer": "ipython3",
   "version": "3.10.9"
  }
 },
 "nbformat": 4,
 "nbformat_minor": 1
}
